{
 "cells": [
  {
   "cell_type": "code",
   "execution_count": 2,
   "metadata": {},
   "outputs": [
    {
     "name": "stderr",
     "output_type": "stream",
     "text": [
      "c:\\Users\\tothm\\.conda\\envs\\ai_learn\\Lib\\site-packages\\torchvision\\io\\image.py:13: UserWarning: Failed to load image Python extension: '[WinError 127] A megadott eljárás nem található'If you don't plan on using image functionality from `torchvision.io`, you can ignore this warning. Otherwise, there might be something wrong with your environment. Did you have `libjpeg` or `libpng` installed before building `torchvision` from source?\n",
      "  warn(\n"
     ]
    }
   ],
   "source": [
    "import torch\n",
    "from torch.utils.data import DataLoader\n",
    "# from torch.utils.data import TensorDataset\n",
    "from torchvision.datasets import MNIST\n",
    "from torchvision.transforms import ToTensor\n",
    "import matplotlib.pyplot as plt"
   ]
  },
  {
   "cell_type": "code",
   "execution_count": 3,
   "metadata": {},
   "outputs": [],
   "source": [
    "# Getting the datasets\n",
    "train_ds = MNIST(root='data', train=True, download=True, transform=ToTensor())\n",
    "valid_ds = MNIST(root='data', train=False, download=True, transform=ToTensor())"
   ]
  },
  {
   "cell_type": "code",
   "execution_count": 4,
   "metadata": {},
   "outputs": [
    {
     "name": "stdout",
     "output_type": "stream",
     "text": [
      "5\n"
     ]
    },
    {
     "data": {
      "text/plain": [
       "<matplotlib.image.AxesImage at 0x236102480d0>"
      ]
     },
     "execution_count": 4,
     "metadata": {},
     "output_type": "execute_result"
    },
    {
     "data": {
      "image/png": "[encoded data removed]",
      "text/plain": [
       "<Figure size 640x480 with 1 Axes>"
      ]
     },
     "metadata": {},
     "output_type": "display_data"
    }
   ],
   "source": [
    "image, label = train_ds[0]\n",
    "print(label)\n",
    "plt.imshow(image.float().reshape(28,28), cmap='gray')"
   ]
  },
  {
   "cell_type": "code",
   "execution_count": 5,
   "metadata": {},
   "outputs": [],
   "source": [
    "# Create data loader \n",
    "# GPU acceleration -> num_workers, pin_memory (faster ram to gpu transfer)\n",
    "bs = 64\n",
    "train_dl = DataLoader(train_ds, batch_size=bs, shuffle=True)\n",
    "valid_dl = DataLoader(valid_ds, batch_size=bs, shuffle=True)"
   ]
  },
  {
   "cell_type": "code",
   "execution_count": 6,
   "metadata": {},
   "outputs": [
    {
     "name": "stdout",
     "output_type": "stream",
     "text": [
      "MNISTModel(\n",
      "  (lin): Linear(in_features=784, out_features=64, bias=True)\n",
      "  (lin2): Linear(in_features=64, out_features=32, bias=True)\n",
      "  (lin3): Linear(in_features=32, out_features=10, bias=True)\n",
      ")\n"
     ]
    }
   ],
   "source": [
    "from torch import nn\n",
    "\n",
    "# build model\n",
    "class MNISTModel(nn.Module):\n",
    "    def __init__(self):\n",
    "        super().__init__()\n",
    "        # self.lin = nn.Linear(28 * 28, 10)\n",
    "        self.lin = nn.Linear(784, 64)\n",
    "        self.lin2 = nn.Linear(64, 32)\n",
    "        self.lin3 = nn.Linear(32, 10)\n",
    "\n",
    "    def forward(self, xb):\n",
    "        xb = xb.flatten(1, -1) # (bs, 1, 28, 28) -> (bs, 784)\n",
    "        # return self.lin(xb)\n",
    "        xb = self.lin(xb)\n",
    "        xb = self.lin2(xb)\n",
    "        return self.lin3(xb)\n",
    "\n",
    "# init model\n",
    "model = MNISTModel()\n",
    "print(model)"
   ]
  },
  {
   "cell_type": "code",
   "execution_count": 7,
   "metadata": {},
   "outputs": [],
   "source": [
    "from torch import optim\n",
    "\n",
    "lr = 0.1\n",
    "\n",
    "# define a loss func & optimizer\n",
    "loss_func = nn.CrossEntropyLoss()\n",
    "optimizer = optim.SGD(model.parameters(), lr=lr) # method of gradient descent (or Adam) learning rate\n",
    "\n",
    "# accuracy func for logging\n",
    "def accuracy_func(pred, yb):\n",
    "    pred_class = torch.argmax(pred, dim=1)\n",
    "    return (pred_class == yb).float().mean()"
   ]
  },
  {
   "cell_type": "code",
   "execution_count": 8,
   "metadata": {},
   "outputs": [],
   "source": [
    "# Create the trainer\n",
    "def train(dataloader, model, loss_func, optimizer):\n",
    "    for batch_idx, (xb, yb) in enumerate(dataloader): # take input and label from data loader\n",
    "        \n",
    "        # loss\n",
    "        pred = model(xb)\n",
    "        loss = loss_func(pred, yb)\n",
    "\n",
    "        # backprop\n",
    "        loss.backward() # autograd\n",
    "        optimizer.step() # updates the parameters using the optimizer we provided\n",
    "        optimizer.zero_grad() # wipe the gradients for the next it\n",
    "\n",
    "        # logging\n",
    "        if batch_idx % 100 == 0:\n",
    "            train_loss, train_accuracy = loss.item(), accuracy_func(pred, yb).item() * 100\n",
    "            print(f'Loss: {train_loss:6f} Accuracy: {train_accuracy:0.1f}%')"
   ]
  },
  {
   "cell_type": "code",
   "execution_count": 9,
   "metadata": {},
   "outputs": [],
   "source": [
    "# Define test\n",
    "def test(dataloader, model, loss_func):\n",
    "    model.eval() # flag to make sure things like dropout works as expected in testing\n",
    "    with torch.no_grad(): # because not updating\n",
    "        for xb, yb in dataloader:\n",
    "            pred = model(xb)\n",
    "            loss = loss_func(pred, yb)\n",
    "            accuracy = accuracy_func(pred, yb)\n",
    "\n",
    "            test_loss, test_accuracy = loss.item(), accuracy.item() * 100\n",
    "    print(f'Test:\\n Loss: {test_loss:6f} Accuracy: {test_accuracy:0.1f}%')"
   ]
  },
  {
   "cell_type": "code",
   "execution_count": 10,
   "metadata": {},
   "outputs": [
    {
     "name": "stdout",
     "output_type": "stream",
     "text": [
      "\n",
      "Epoch 0\n",
      "-----------------\n",
      "Loss: 2.291546 Accuracy: 7.8%\n",
      "Loss: 0.605872 Accuracy: 79.7%\n",
      "Loss: 0.507586 Accuracy: 81.2%\n",
      "Loss: 0.509582 Accuracy: 84.4%\n",
      "Loss: 0.281114 Accuracy: 90.6%\n",
      "Loss: 0.299310 Accuracy: 90.6%\n",
      "Loss: 0.298083 Accuracy: 87.5%\n",
      "Loss: 0.262613 Accuracy: 90.6%\n",
      "Loss: 0.189036 Accuracy: 93.8%\n",
      "Loss: 0.419111 Accuracy: 89.1%\n",
      "Test:\n",
      " Loss: 0.183414 Accuracy: 93.8%\n",
      "\n",
      "Epoch 1\n",
      "-----------------\n",
      "Loss: 0.467360 Accuracy: 82.8%\n",
      "Loss: 0.295032 Accuracy: 89.1%\n",
      "Loss: 0.238239 Accuracy: 89.1%\n",
      "Loss: 0.417578 Accuracy: 89.1%\n",
      "Loss: 0.394389 Accuracy: 92.2%\n",
      "Loss: 0.304436 Accuracy: 92.2%\n",
      "Loss: 0.175007 Accuracy: 95.3%\n",
      "Loss: 0.123216 Accuracy: 96.9%\n",
      "Loss: 0.484414 Accuracy: 84.4%\n",
      "Loss: 0.279368 Accuracy: 89.1%\n",
      "Test:\n",
      " Loss: 0.225300 Accuracy: 93.8%\n",
      "\n",
      "Finished!\n"
     ]
    }
   ],
   "source": [
    "# RUN\n",
    "\n",
    "epochs = 2\n",
    "\n",
    "for t in range(epochs):\n",
    "    print(f'\\nEpoch {t}\\n-----------------')\n",
    "    train(train_dl, model, loss_func, optimizer)\n",
    "    test(valid_dl, model, loss_func)\n",
    "print('\\nFinished!')"
   ]
  },
  {
   "cell_type": "code",
   "execution_count": 68,
   "metadata": {},
   "outputs": [
    {
     "name": "stdout",
     "output_type": "stream",
     "text": [
      "Noise:  [  2.9429178 -10.2709465   9.751692    9.377683   -7.3943915   9.846849\n",
      "  -1.2577546  -6.6680274   5.188685   -6.591787 ]\n",
      "Noise result =  5\n",
      "Dataset:  [-6.422437   7.584221  10.312972   2.836699  -5.679793  -2.5178998\n",
      "  7.8241563 -9.176862   3.8925095 -8.481646 ]\n",
      "Dataset result =  2\n"
     ]
    },
    {
     "data": {
      "image/png": "[encoded data removed]",
      "text/plain": [
       "<Figure size 640x480 with 1 Axes>"
      ]
     },
     "metadata": {},
     "output_type": "display_data"
    },
    {
     "data": {
      "text/plain": [
       "<matplotlib.image.AxesImage at 0x23617bae810>"
      ]
     },
     "execution_count": 68,
     "metadata": {},
     "output_type": "execute_result"
    },
    {
     "data": {
      "image/png": "[encoded data removed]",
      "text/plain": [
       "<Figure size 640x480 with 1 Axes>"
      ]
     },
     "metadata": {},
     "output_type": "display_data"
    }
   ],
   "source": [
    "# Generate a noise image and run prediction\n",
    "import numpy as np\n",
    "\n",
    "sample = (255 * np.random.random(784)).astype('uint8').reshape((28, 28))\n",
    "preprocessed_sample = ToTensor()(sample)\n",
    "\n",
    "image_ds, label_ds = train_ds[122]\n",
    "\n",
    "model.eval()\n",
    "with torch.no_grad():\n",
    "    pred_noise = model(preprocessed_sample.unsqueeze(0).float()).numpy()[0]\n",
    "    print('Noise: ', pred_noise)\n",
    "    print('Noise result = ', np.argmax(pred_noise))\n",
    "\n",
    "    pred_ds = model(image_ds).numpy()[0]\n",
    "    print('Dataset: ', pred_ds)\n",
    "    print('Dataset result = ', np.argmax(pred_ds))\n",
    "\n",
    "plt.imshow(sample, cmap='grey')\n",
    "plt.show()\n",
    "plt.imshow(image_ds.float().reshape(28, 28), cmap='gray')"
   ]
  }
 ],
 "metadata": {
  "kernelspec": {
   "display_name": "Python 3",
   "language": "python",
   "name": "python3"
  },
  "language_info": {
   "codemirror_mode": {
    "name": "ipython",
    "version": 3
   },
   "file_extension": ".py",
   "mimetype": "text/x-python",
   "name": "python",
   "nbconvert_exporter": "python",
   "pygments_lexer": "ipython3",
   "version": "3.11.5"
  }
 },
 "nbformat": 4,
 "nbformat_minor": 2
}
