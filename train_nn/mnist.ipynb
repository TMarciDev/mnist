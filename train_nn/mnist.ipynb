{
 "cells": [
  {
   "cell_type": "code",
   "execution_count": 1,
   "metadata": {},
   "outputs": [
    {
     "name": "stderr",
     "output_type": "stream",
     "text": [
      "c:\\Users\\tothm\\.conda\\envs\\ai_learn\\Lib\\site-packages\\torchvision\\io\\image.py:13: UserWarning: Failed to load image Python extension: '[WinError 127] A megadott eljárás nem található'If you don't plan on using image functionality from `torchvision.io`, you can ignore this warning. Otherwise, there might be something wrong with your environment. Did you have `libjpeg` or `libpng` installed before building `torchvision` from source?\n",
      "  warn(\n"
     ]
    }
   ],
   "source": [
    "import torch\n",
    "from torch.utils.data import DataLoader\n",
    "# from torch.utils.data import TensorDataset\n",
    "from torchvision.datasets import MNIST\n",
    "from torchvision.transforms import ToTensor\n",
    "import matplotlib.pyplot as plt"
   ]
  },
  {
   "cell_type": "code",
   "execution_count": 2,
   "metadata": {},
   "outputs": [],
   "source": [
    "# Getting the datasets\n",
    "train_ds = MNIST(root='data', train=True, download=True, transform=ToTensor())\n",
    "valid_ds = MNIST(root='data', train=False, download=True, transform=ToTensor())"
   ]
  },
  {
   "cell_type": "code",
   "execution_count": 3,
   "metadata": {},
   "outputs": [
    {
     "name": "stdout",
     "output_type": "stream",
     "text": [
      "5\n"
     ]
    },
    {
     "data": {
      "text/plain": [
       "<matplotlib.image.AxesImage at 0x1949d2001d0>"
      ]
     },
     "execution_count": 3,
     "metadata": {},
     "output_type": "execute_result"
    },
    {
     "data": {
      "image/png": "[encoded data removed]",
      "text/plain": [
       "<Figure size 640x480 with 1 Axes>"
      ]
     },
     "metadata": {},
     "output_type": "display_data"
    }
   ],
   "source": [
    "image, label = train_ds[0]\n",
    "print(label)\n",
    "plt.axis('off')\n",
    "plt.imshow(image.float().reshape(28, 28), cmap='viridis')"
   ]
  },
  {
   "cell_type": "code",
   "execution_count": 4,
   "metadata": {},
   "outputs": [],
   "source": [
    "# Create data loader \n",
    "# GPU acceleration -> num_workers, pin_memory (faster ram to gpu transfer)\n",
    "bs = 64\n",
    "train_dl = DataLoader(train_ds, batch_size=bs, shuffle=True)\n",
    "valid_dl = DataLoader(valid_ds, batch_size=bs, shuffle=True)"
   ]
  },
  {
   "cell_type": "code",
   "execution_count": 5,
   "metadata": {},
   "outputs": [
    {
     "name": "stdout",
     "output_type": "stream",
     "text": [
      "MNISTModel(\n",
      "  (lin): Linear(in_features=784, out_features=64, bias=True)\n",
      "  (lin2): Linear(in_features=64, out_features=32, bias=True)\n",
      "  (lin3): Linear(in_features=32, out_features=10, bias=True)\n",
      ")\n"
     ]
    }
   ],
   "source": [
    "from torch import nn\n",
    "\n",
    "# build model\n",
    "class MNISTModel(nn.Module):\n",
    "    def __init__(self):\n",
    "        super().__init__()\n",
    "        # self.lin = nn.Linear(28 * 28, 10)\n",
    "        self.lin = nn.Linear(784, 64)\n",
    "        self.lin2 = nn.Linear(64, 32)\n",
    "        self.lin3 = nn.Linear(32, 10)\n",
    "\n",
    "    def forward(self, xb):\n",
    "        xb = xb.flatten(1, -1) # (bs, 1, 28, 28) -> (bs, 784)\n",
    "        # return self.lin(xb)\n",
    "        xb = self.lin(xb)\n",
    "        xb = self.lin2(xb)\n",
    "        return self.lin3(xb)\n",
    "\n",
    "# init model\n",
    "model = MNISTModel()\n",
    "print(model)"
   ]
  },
  {
   "cell_type": "code",
   "execution_count": 6,
   "metadata": {},
   "outputs": [],
   "source": [
    "from torch import optim\n",
    "\n",
    "lr = 0.1\n",
    "\n",
    "# define a loss func & optimizer\n",
    "loss_func = nn.CrossEntropyLoss()\n",
    "optimizer = optim.SGD(model.parameters(), lr=lr) # method of gradient descent (or Adam) learning rate\n",
    "\n",
    "# accuracy func for logging\n",
    "def accuracy_func(pred, yb):\n",
    "    pred_class = torch.argmax(pred, dim=1)\n",
    "    return (pred_class == yb).float().mean()"
   ]
  },
  {
   "cell_type": "code",
   "execution_count": 7,
   "metadata": {},
   "outputs": [],
   "source": [
    "# Create the trainer\n",
    "def train(dataloader, model, loss_func, optimizer):\n",
    "    for batch_idx, (xb, yb) in enumerate(dataloader): # take input and label from data loader\n",
    "        \n",
    "        # loss\n",
    "        pred = model(xb)\n",
    "        loss = loss_func(pred, yb)\n",
    "\n",
    "        # backprop\n",
    "        loss.backward() # autograd\n",
    "        optimizer.step() # updates the parameters using the optimizer we provided\n",
    "        optimizer.zero_grad() # wipe the gradients for the next it\n",
    "\n",
    "        # logging\n",
    "        if batch_idx % 100 == 0:\n",
    "            train_loss, train_accuracy = loss.item(), accuracy_func(pred, yb).item() * 100\n",
    "            print(f'Loss: {train_loss:6f} Accuracy: {train_accuracy:0.1f}%')"
   ]
  },
  {
   "cell_type": "code",
   "execution_count": 8,
   "metadata": {},
   "outputs": [],
   "source": [
    "# Define test\n",
    "def test(dataloader, model, loss_func):\n",
    "    model.eval() # flag to make sure things like dropout works as expected in testing\n",
    "    with torch.no_grad(): # because not updating\n",
    "        for xb, yb in dataloader:\n",
    "            pred = model(xb)\n",
    "            loss = loss_func(pred, yb)\n",
    "            accuracy = accuracy_func(pred, yb)\n",
    "\n",
    "            test_loss, test_accuracy = loss.item(), accuracy.item() * 100\n",
    "    print(f'Test:\\n Loss: {test_loss:6f} Accuracy: {test_accuracy:0.1f}%')"
   ]
  },
  {
   "cell_type": "code",
   "execution_count": 9,
   "metadata": {},
   "outputs": [
    {
     "name": "stdout",
     "output_type": "stream",
     "text": [
      "\n",
      "Epoch 0\n",
      "-----------------\n"
     ]
    },
    {
     "name": "stdout",
     "output_type": "stream",
     "text": [
      "Loss: 2.309981 Accuracy: 6.2%\n",
      "Loss: 0.628152 Accuracy: 78.1%\n",
      "Loss: 0.286497 Accuracy: 90.6%\n",
      "Loss: 0.356064 Accuracy: 90.6%\n",
      "Loss: 0.546962 Accuracy: 89.1%\n",
      "Loss: 0.470145 Accuracy: 84.4%\n",
      "Loss: 0.506108 Accuracy: 81.2%\n",
      "Loss: 0.385837 Accuracy: 85.9%\n",
      "Loss: 0.410232 Accuracy: 85.9%\n",
      "Loss: 0.350843 Accuracy: 87.5%\n",
      "Test:\n",
      " Loss: 0.371498 Accuracy: 87.5%\n",
      "\n",
      "Epoch 1\n",
      "-----------------\n",
      "Loss: 0.296178 Accuracy: 89.1%\n",
      "Loss: 0.370028 Accuracy: 87.5%\n",
      "Loss: 0.603831 Accuracy: 81.2%\n",
      "Loss: 0.248864 Accuracy: 90.6%\n",
      "Loss: 0.335649 Accuracy: 89.1%\n",
      "Loss: 0.334939 Accuracy: 90.6%\n",
      "Loss: 0.270145 Accuracy: 90.6%\n",
      "Loss: 0.262928 Accuracy: 92.2%\n",
      "Loss: 0.230455 Accuracy: 92.2%\n",
      "Loss: 0.225803 Accuracy: 92.2%\n",
      "Test:\n",
      " Loss: 0.077831 Accuracy: 100.0%\n",
      "\n",
      "Finished!\n"
     ]
    }
   ],
   "source": [
    "# RUN\n",
    "\n",
    "epochs = 2\n",
    "\n",
    "for t in range(epochs):\n",
    "    print(f'\\nEpoch {t}\\n-----------------')\n",
    "    train(train_dl, model, loss_func, optimizer)\n",
    "    test(valid_dl, model, loss_func)\n",
    "print('\\nFinished!')"
   ]
  },
  {
   "cell_type": "code",
   "execution_count": 10,
   "metadata": {},
   "outputs": [
    {
     "name": "stdout",
     "output_type": "stream",
     "text": [
      "Noise:  [ 0.84838915 -9.121184    7.3805785  10.095431   -9.395775    8.446102\n",
      " -7.0597467  -1.1934965   7.0960765  -2.534281  ]\n",
      "Noise result =  3\n",
      "Dataset:  [ 1.9137024 -8.221228   2.411082   5.841603  -1.3390603  1.792247\n",
      " -9.179934  12.826225   0.8813311  4.612034 ]\n",
      "Dataset result =  7\n"
     ]
    },
    {
     "data": {
      "image/png": "[encoded data removed]",
      "text/plain": [
       "<Figure size 640x480 with 1 Axes>"
      ]
     },
     "metadata": {},
     "output_type": "display_data"
    },
    {
     "data": {
      "text/plain": [
       "<matplotlib.image.AxesImage at 0x1949d62fd50>"
      ]
     },
     "execution_count": 10,
     "metadata": {},
     "output_type": "execute_result"
    },
    {
     "data": {
      "image/png": "[encoded data removed]",
      "text/plain": [
       "<Figure size 640x480 with 1 Axes>"
      ]
     },
     "metadata": {},
     "output_type": "display_data"
    }
   ],
   "source": [
    "# Generate a noise image and run prediction\n",
    "import numpy as np\n",
    "\n",
    "sample = (255 * np.random.random(784)).astype('uint8').reshape((28, 28))\n",
    "preprocessed_sample = ToTensor()(sample)\n",
    "\n",
    "image_ds, label_ds = valid_ds[0]\n",
    "\n",
    "model.eval()\n",
    "with torch.no_grad():\n",
    "    pred_noise = model(preprocessed_sample.unsqueeze(0).float()).numpy()[0]\n",
    "    print('Noise: ', pred_noise)\n",
    "    print('Noise result = ', np.argmax(pred_noise))\n",
    "\n",
    "    pred_ds = model(image_ds).numpy()[0]\n",
    "    print('Dataset: ', pred_ds)\n",
    "    print('Dataset result = ', np.argmax(pred_ds))\n",
    "\n",
    "plt.axis('off')\n",
    "plt.imshow(sample, cmap='viridis')\n",
    "plt.show()\n",
    "plt.axis('off')\n",
    "plt.imshow(image_ds.float().reshape(28, 28), cmap='viridis')"
   ]
  }
 ],
 "metadata": {
  "kernelspec": {
   "display_name": "Python 3",
   "language": "python",
   "name": "python3"
  },
  "language_info": {
   "codemirror_mode": {
    "name": "ipython",
    "version": 3
   },
   "file_extension": ".py",
   "mimetype": "text/x-python",
   "name": "python",
   "nbconvert_exporter": "python",
   "pygments_lexer": "ipython3",
   "version": "3.11.5"
  }
 },
 "nbformat": 4,
 "nbformat_minor": 2
}
