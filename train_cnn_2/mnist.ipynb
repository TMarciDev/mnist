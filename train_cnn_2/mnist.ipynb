{
 "cells": [
  {
   "cell_type": "code",
   "execution_count": 1,
   "metadata": {},
   "outputs": [
    {
     "name": "stderr",
     "output_type": "stream",
     "text": [
      "c:\\Users\\tothm\\.conda\\envs\\ai_learn\\Lib\\site-packages\\torchvision\\io\\image.py:13: UserWarning: Failed to load image Python extension: '[WinError 127] A megadott eljárás nem található'If you don't plan on using image functionality from `torchvision.io`, you can ignore this warning. Otherwise, there might be something wrong with your environment. Did you have `libjpeg` or `libpng` installed before building `torchvision` from source?\n",
      "  warn(\n"
     ]
    }
   ],
   "source": [
    "import torch, torchvision\n",
    "from torch import nn\n",
    "from torch import optim\n",
    "from torchvision.transforms import ToTensor\n",
    "import torch.nn.functional as F\n",
    "import matplotlib.pyplot as plt"
   ]
  },
  {
   "cell_type": "code",
   "execution_count": 4,
   "metadata": {},
   "outputs": [],
   "source": [
    "from sklearn.metrics import confusion_matrix\n",
    "import pandas as pd\n",
    "import numpy as np\n",
    "import copy"
   ]
  },
  {
   "cell_type": "code",
   "execution_count": 5,
   "metadata": {},
   "outputs": [],
   "source": [
    "numb_batch = 64"
   ]
  },
  {
   "cell_type": "code",
   "execution_count": 7,
   "metadata": {},
   "outputs": [],
   "source": [
    "T = torchvision.transforms.Compose([\n",
    "    torchvision.transforms.ToTensor()\n",
    "])\n",
    "train_data = torchvision.datasets.MNIST('mnist_data', train=True, download=True, transform=T)\n",
    "val_data = torchvision.datasets.MNIST('mnist_data', train=False, download=True, transform=T)\n",
    "\n",
    "train_dl = torch.utils.data.DataLoader(train_data, batch_size = numb_batch)\n",
    "val_dl = torch.utils.data.DataLoader(val_data, batch_size = numb_batch)"
   ]
  },
  {
   "cell_type": "code",
   "execution_count": 8,
   "metadata": {},
   "outputs": [],
   "source": [
    "def create_lenet():\n",
    "    model = nn.Sequential(\n",
    "        nn.Conv2d(1, 6, 5, padding=2),\n",
    "        nn.ReLU(),\n",
    "        nn.AvgPool2d(2, stride=2),\n",
    "        nn.Conv2d(6, 16, 5, padding=0),\n",
    "        nn.ReLU(),\n",
    "        nn.AvgPool2d(2, stride=2),\n",
    "        nn.Flatten(),\n",
    "        nn.Linear(400, 120),\n",
    "        nn.ReLU(),\n",
    "        nn.Linear(120, 84),\n",
    "        nn.ReLU(),\n",
    "        nn.Linear(84, 10)\n",
    "    )\n",
    "    return model"
   ]
  },
  {
   "cell_type": "code",
   "execution_count": 19,
   "metadata": {},
   "outputs": [],
   "source": [
    "# def validate(model, data):\n",
    "#     total = 0\n",
    "#     correct = 0\n",
    "#     for i, (images, labels) in enumerate(data):\n",
    "#         images = images.cuda()\n",
    "#         x = model(images)\n",
    "#         value, pred = torch.max(x,1)\n",
    "#         pred = pred.data.cpu()\n",
    "#         total += x.size(0)\n",
    "#         correct += torch.sum(pred == labels)\n",
    "#     return correct*100./total\n",
    "\n",
    "def validate(model, data, device):\n",
    "    total = 0\n",
    "    correct = 0\n",
    "    for i, (images, labels) in enumerate(data):\n",
    "        images = images.to(device)\n",
    "        labels = labels.to(device)\n",
    "        \n",
    "        x = model(images)\n",
    "        _, pred = torch.max(x, 1)\n",
    "        pred = pred.cpu()  # Move predictions back to CPU if they were on GPU\n",
    "        total += labels.size(0)\n",
    "        correct += torch.sum(pred == labels.cpu())  # Move labels back to CPU for comparison\n",
    "\n",
    "    return correct * 100. / total\n"
   ]
  },
  {
   "cell_type": "code",
   "execution_count": 20,
   "metadata": {},
   "outputs": [],
   "source": [
    "def train(numb_epoch=3, lr=1e-3, device=\"cpu\"):\n",
    "    accuracies = []\n",
    "    cnn = create_lenet().to(device)\n",
    "    cec = nn.CrossEntropyLoss()\n",
    "    optimizer = optim.Adam(cnn.parameters(), lr=lr)\n",
    "    max_accuracy = 0\n",
    "    for epoch in range(numb_epoch):\n",
    "        for i, (images, labels) in enumerate(train_dl):\n",
    "            images = images.to(device)\n",
    "            labels = labels.to(device)\n",
    "            optimizer.zero_grad()\n",
    "            pred = cnn(images)\n",
    "            loss = cec(pred, labels)\n",
    "            loss.backward()\n",
    "            optimizer.step()\n",
    "        accuracy = float(validate(cnn, val_dl, device))\n",
    "        # accuracy = float(validate(cnn, val_dl, device))\n",
    "        accuracies.append(accuracy)\n",
    "        if accuracy > max_accuracy:\n",
    "            best_model = copy.deepcopy(cnn)\n",
    "            max_accuracy = accuracy\n",
    "            print(\"Saving Best Model with Accuracy: \", accuracy)\n",
    "        print('Epoch:', epoch+1, \"Accuracy :\", accuracy, '%')\n",
    "    plt.plot(accuracies)\n",
    "    return best_model"
   ]
  },
  {
   "cell_type": "code",
   "execution_count": 21,
   "metadata": {},
   "outputs": [
    {
     "name": "stdout",
     "output_type": "stream",
     "text": [
      "No Cuda Available\n"
     ]
    },
    {
     "data": {
      "text/plain": [
       "device(type='cpu')"
      ]
     },
     "execution_count": 21,
     "metadata": {},
     "output_type": "execute_result"
    }
   ],
   "source": [
    "if torch.cuda.is_available():\n",
    "    device = torch.device(\"cuda:0\")\n",
    "else:\n",
    "    device = torch.device(\"cpu\")\n",
    "    print(\"No Cuda Available\")\n",
    "device\n",
    "\n",
    "#device = torch.device(\"cuda:0\")\n"
   ]
  },
  {
   "cell_type": "code",
   "execution_count": 22,
   "metadata": {},
   "outputs": [
    {
     "name": "stdout",
     "output_type": "stream",
     "text": [
      "Saving Best Model with Accuracy:  95.73999786376953\n",
      "Epoch: 1 Accuracy : 95.73999786376953 %\n",
      "Saving Best Model with Accuracy:  97.11000061035156\n",
      "Epoch: 2 Accuracy : 97.11000061035156 %\n",
      "Saving Best Model with Accuracy:  97.95999908447266\n",
      "Epoch: 3 Accuracy : 97.95999908447266 %\n",
      "Saving Best Model with Accuracy:  98.20999908447266\n",
      "Epoch: 4 Accuracy : 98.20999908447266 %\n",
      "Saving Best Model with Accuracy:  98.4800033569336\n",
      "Epoch: 5 Accuracy : 98.4800033569336 %\n",
      "Saving Best Model with Accuracy:  98.55999755859375\n",
      "Epoch: 6 Accuracy : 98.55999755859375 %\n",
      "Saving Best Model with Accuracy:  98.70999908447266\n",
      "Epoch: 7 Accuracy : 98.70999908447266 %\n",
      "Saving Best Model with Accuracy:  98.7699966430664\n",
      "Epoch: 8 Accuracy : 98.7699966430664 %\n",
      "Saving Best Model with Accuracy:  98.81999969482422\n",
      "Epoch: 9 Accuracy : 98.81999969482422 %\n",
      "Saving Best Model with Accuracy:  98.94999694824219\n",
      "Epoch: 10 Accuracy : 98.94999694824219 %\n",
      "Epoch: 11 Accuracy : 98.94999694824219 %\n",
      "Epoch: 12 Accuracy : 98.94000244140625 %\n",
      "Epoch: 13 Accuracy : 98.76000213623047 %\n",
      "Saving Best Model with Accuracy:  98.97000122070312\n",
      "Epoch: 14 Accuracy : 98.97000122070312 %\n",
      "Epoch: 15 Accuracy : 98.94000244140625 %\n",
      "Saving Best Model with Accuracy:  99.08999633789062\n",
      "Epoch: 16 Accuracy : 99.08999633789062 %\n",
      "Epoch: 17 Accuracy : 98.7699966430664 %\n",
      "Epoch: 18 Accuracy : 99.0 %\n",
      "Epoch: 19 Accuracy : 98.98999786376953 %\n",
      "Epoch: 20 Accuracy : 98.91999816894531 %\n",
      "Epoch: 21 Accuracy : 98.9800033569336 %\n",
      "Epoch: 22 Accuracy : 99.0199966430664 %\n",
      "Epoch: 23 Accuracy : 98.83999633789062 %\n",
      "Epoch: 24 Accuracy : 99.08999633789062 %\n",
      "Epoch: 25 Accuracy : 98.83000183105469 %\n",
      "Epoch: 26 Accuracy : 98.94999694824219 %\n",
      "Epoch: 27 Accuracy : 98.93000030517578 %\n",
      "Epoch: 28 Accuracy : 98.95999908447266 %\n",
      "Saving Best Model with Accuracy:  99.0999984741211\n",
      "Epoch: 29 Accuracy : 99.0999984741211 %\n",
      "Epoch: 30 Accuracy : 98.87000274658203 %\n",
      "Epoch: 31 Accuracy : 98.93000030517578 %\n",
      "Epoch: 32 Accuracy : 98.9800033569336 %\n",
      "Epoch: 33 Accuracy : 98.94000244140625 %\n",
      "Saving Best Model with Accuracy:  99.11000061035156\n",
      "Epoch: 34 Accuracy : 99.11000061035156 %\n",
      "Epoch: 35 Accuracy : 98.88999938964844 %\n",
      "Epoch: 36 Accuracy : 99.06999969482422 %\n",
      "Epoch: 37 Accuracy : 98.80999755859375 %\n",
      "Saving Best Model with Accuracy:  99.18000030517578\n",
      "Epoch: 38 Accuracy : 99.18000030517578 %\n",
      "Epoch: 39 Accuracy : 98.87999725341797 %\n",
      "Epoch: 40 Accuracy : 99.02999877929688 %\n"
     ]
    },
    {
     "data": {
      "image/png": "[encoded data removed]",
      "text/plain": [
       "<Figure size 640x480 with 1 Axes>"
      ]
     },
     "metadata": {},
     "output_type": "display_data"
    }
   ],
   "source": [
    "lenet = train(40, device=device)"
   ]
  },
  {
   "cell_type": "code",
   "execution_count": null,
   "metadata": {},
   "outputs": [],
   "source": [
    "torch.save(lenet.state_dict(), \"lenet.pth\")"
   ]
  },
  {
   "cell_type": "code",
   "execution_count": null,
   "metadata": {},
   "outputs": [],
   "source": [
    "# lenet = create_lenet().to(device)\n",
    "# lenet.load_state_dict(torch.load(\"lenet.pth\"))\n",
    "# lenet.eval()"
   ]
  },
  {
   "cell_type": "code",
   "execution_count": null,
   "metadata": {},
   "outputs": [],
   "source": [
    "def predict_dl(model, data):\n",
    "    y_pred = []\n",
    "    y_true = []\n",
    "    for i, (images, labels) in enumerate(data):\n",
    "        images = images.cuda()\n",
    "        x = model(images)\n",
    "        value, pred = torch.max(x, 1)\n",
    "        pred = pred.data.cpu()\n",
    "        y_pred.extend(list(pred.numpy()))\n",
    "        y_true.extend(list(labels.numpy()))\n",
    "    return np.array(y_pred), np.array(y_true)"
   ]
  },
  {
   "cell_type": "code",
   "execution_count": null,
   "metadata": {},
   "outputs": [],
   "source": [
    "y_pred, y_true = predict_dl(lenet, val_dl)"
   ]
  },
  {
   "cell_type": "code",
   "execution_count": null,
   "metadata": {},
   "outputs": [],
   "source": [
    "pd.DataFrame(confusion_matrix(y_true, y_pred, labels=np.arange(0,10)))"
   ]
  },
  {
   "cell_type": "code",
   "execution_count": 18,
   "metadata": {},
   "outputs": [
    {
     "name": "stdout",
     "output_type": "stream",
     "text": [
      "False\n"
     ]
    }
   ],
   "source": [
    "\n",
    "print(torch.cuda.is_available())"
   ]
  }
 ],
 "metadata": {
  "kernelspec": {
   "display_name": "ai_learn",
   "language": "python",
   "name": "python3"
  },
  "language_info": {
   "codemirror_mode": {
    "name": "ipython",
    "version": 3
   },
   "file_extension": ".py",
   "mimetype": "text/x-python",
   "name": "python",
   "nbconvert_exporter": "python",
   "pygments_lexer": "ipython3",
   "version": "3.11.5"
  }
 },
 "nbformat": 4,
 "nbformat_minor": 2
}
