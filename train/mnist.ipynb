{
 "cells": [
  {
   "cell_type": "code",
   "execution_count": 2,
   "metadata": {},
   "outputs": [],
   "source": [
    "from pathlib import Path\n",
    "import requests\n",
    "\n",
    "# get the dataset\n",
    "DATA_PATH = Path('data')\n",
    "PATH = DATA_PATH / 'mnist'\n",
    "\n",
    "PATH.mkdir(parents=True, exist_ok=True)\n",
    "\n",
    "URL = \"https://github.com/pytorch/tutorials/raw/main/_static/\"\n",
    "FILENAME = \"mnist.pkl.gz\"\n",
    "\n",
    "if not (PATH / FILENAME).exists():\n",
    "    content = requests.get(URL + FILENAME).content\n",
    "    (PATH / FILENAME).open(\"wb\").write(content)"
   ]
  },
  {
   "cell_type": "code",
   "execution_count": 3,
   "metadata": {},
   "outputs": [
    {
     "name": "stdout",
     "output_type": "stream",
     "text": [
      "(50000, 784)\n",
      "(50000,)\n"
     ]
    }
   ],
   "source": [
    "import pickle\n",
    "import gzip\n",
    "\n",
    "# train and test sets are already done\n",
    "with gzip.open((PATH / FILENAME).as_posix(), \"rb\") as f:\n",
    "    ((x_train, y_train), (x_valid, y_valid),_) = pickle.load(f, encoding=\"latin-1\")\n",
    "    \n",
    "print(x_train.shape)\n",
    "print(y_train.shape)"
   ]
  },
  {
   "cell_type": "code",
   "execution_count": 13,
   "metadata": {},
   "outputs": [
    {
     "name": "stdout",
     "output_type": "stream",
     "text": [
      "tensor(2)\n"
     ]
    },
    {
     "data": {
      "image/png": "[encoded data removed]",
      "text/plain": [
       "<Figure size 640x480 with 1 Axes>"
      ]
     },
     "metadata": {},
     "output_type": "display_data"
    }
   ],
   "source": [
    "from matplotlib import pyplot\n",
    "\n",
    "pyplot.imshow(x_train[122].reshape((28, 28)), cmap=\"viridis\")\n",
    "print(y_train[122])"
   ]
  },
  {
   "cell_type": "code",
   "execution_count": 5,
   "metadata": {},
   "outputs": [],
   "source": [
    "import torch\n",
    "\n",
    "# turn numpy arrays to tensors that give a better performance\n",
    "x_train, y_train, x_valid, y_valid = map(torch.tensor, (x_train, y_train, x_valid, y_valid))"
   ]
  },
  {
   "cell_type": "code",
   "execution_count": 6,
   "metadata": {},
   "outputs": [],
   "source": [
    "# initialize weight and bias\n",
    "import math\n",
    "\n",
    "torch.manual_seed(12) # creates the same random numbers for debugging\n",
    "weights = torch.randn(784, 10) / math.sqrt(784) # Xavier initialization\n",
    "weights.requires_grad_() # add a gradient to the tensors # _ means in-place apply, saves memory\n",
    "bias = torch.zeros(10, requires_grad=True)"
   ]
  },
  {
   "cell_type": "code",
   "execution_count": 7,
   "metadata": {},
   "outputs": [],
   "source": [
    "# define our model: input -> model -> output\n",
    "# xb = x batch\n",
    "def model(xb):\n",
    "\treturn xb @ weights + bias"
   ]
  },
  {
   "cell_type": "code",
   "execution_count": 8,
   "metadata": {},
   "outputs": [],
   "source": [
    "# Loss function\n",
    "\n",
    "def softmax(x): # e^x_i / sum(e^x_i)\n",
    "\treturn x.exp() / x.exp().sum(-1).unsqueeze(-1) # unsqueze restores dimension\n",
    "\n",
    "def cross_entropy_loss(pred, targets):\n",
    "\tbs, out_features = pred.shape\n",
    "\tone_hot_encoded_targets = torch.eye(out_features)[targets] # creates the one hot encoded matrix from vectors\n",
    "\t# - 1/n sum p * log(q) -> n = bs\n",
    "\treturn -(one_hot_encoded_targets * softmax(pred).log()).sum() / bs # sum all and take average of the batch\n",
    "\n",
    "loss_func = cross_entropy_loss\n",
    "# print(softmax(model(x_train)).shape)"
   ]
  },
  {
   "cell_type": "code",
   "execution_count": 9,
   "metadata": {},
   "outputs": [
    {
     "name": "stdout",
     "output_type": "stream",
     "text": [
      "tensor(2.3215, grad_fn=<NllLossBackward0>)\n",
      "loss=2.3214573860168457\n"
     ]
    }
   ],
   "source": [
    "import torch.nn.functional as F\n",
    "\n",
    "# test cross entropy loss implementation\n",
    "bs = 64\n",
    "\n",
    "xb = x_train[0:bs]\n",
    "pred = model(xb)\n",
    "yb = y_train[0:bs]\n",
    "\n",
    "print(F.cross_entropy(pred, yb))\n",
    "print(f'loss={cross_entropy_loss(pred, yb)}')"
   ]
  },
  {
   "cell_type": "code",
   "execution_count": 10,
   "metadata": {},
   "outputs": [],
   "source": [
    "# Accuracy: how many of the batches we get correct\n",
    "def accuracy_func(pred, yb):\n",
    "\tpred_class = torch.argmax(pred, dim=1) # argmax returns the largest number index in an array\n",
    "\treturn (pred_class == yb).float().mean()"
   ]
  },
  {
   "cell_type": "code",
   "execution_count": 11,
   "metadata": {},
   "outputs": [
    {
     "name": "stdout",
     "output_type": "stream",
     "text": [
      "loss: 2.321457 accuracy:  14.1%\n",
      "loss: 0.312502 accuracy:  89.1%\n",
      "loss: 0.298902 accuracy:  89.1%\n"
     ]
    },
    {
     "name": "stdout",
     "output_type": "stream",
     "text": [
      "loss: 0.390776 accuracy:  93.8%\n",
      "loss: 0.232407 accuracy:  90.6%\n",
      "loss: 0.380827 accuracy:  89.1%\n",
      "loss: 0.265795 accuracy:  89.1%\n",
      "loss: 0.379751 accuracy:  90.6%\n",
      "loss: 0.280699 accuracy:  92.2%\n",
      "loss: 0.259951 accuracy:  92.2%\n",
      "loss: 0.193850 accuracy:  90.6%\n",
      "loss: 0.344282 accuracy:  92.2%\n",
      "loss: 0.208628 accuracy:  93.8%\n",
      "loss: 0.355668 accuracy:  90.6%\n",
      "loss: 0.228148 accuracy:  90.6%\n",
      "loss: 0.361645 accuracy:  89.1%\n"
     ]
    }
   ],
   "source": [
    "# train the model\n",
    "\n",
    "epochs = 2\n",
    "n = x_train.shape[0]\n",
    "num_batches = n // bs + 1\n",
    "\n",
    "lr = 0.5\n",
    "\n",
    "for epoch in range(epochs):\n",
    "\tfor i in range(num_batches):\n",
    "\t\tstart_i = i * bs\n",
    "\t\tend_i = start_i + bs\n",
    "\n",
    "\t\txb = x_train[start_i:end_i]\n",
    "\t\tyb = y_train[start_i:end_i]\n",
    "\t\t\n",
    "\t\tpred = model(xb)\n",
    "\n",
    "\t\taccuracy = accuracy_func(pred, yb)\n",
    "\n",
    "\t\tloss = loss_func(pred, yb)\n",
    "\t\tloss.backward() # autograd\n",
    "\n",
    "\t\twith torch.no_grad(): # we already computed the grad, set all requires_grad flags to false -> reduces memory consumption\n",
    "\t\t\tweights -= weights.grad * lr\n",
    "\t\t\tbias -= bias.grad * lr\n",
    "\t\t\tweights.grad.zero_() # prevent gradient accumulation, recalculate every time for the new weights\n",
    "\t\t\tbias.grad.zero_()\n",
    "\t\t\n",
    "\t\t# logging\n",
    "\t\tif i % 100 == 0:\n",
    "\t\t\ttrain_loss, train_accuracy = loss.item(), accuracy.item() * 100\n",
    "\t\t\tprint(f'loss: {train_loss:6f} accuracy: {train_accuracy: 0.1f}%')"
   ]
  }
 ],
 "metadata": {
  "kernelspec": {
   "display_name": "ai_learn",
   "language": "python",
   "name": "python3"
  },
  "language_info": {
   "codemirror_mode": {
    "name": "ipython",
    "version": 3
   },
   "file_extension": ".py",
   "mimetype": "text/x-python",
   "name": "python",
   "nbconvert_exporter": "python",
   "pygments_lexer": "ipython3",
   "version": "3.11.5"
  }
 },
 "nbformat": 4,
 "nbformat_minor": 2
}
